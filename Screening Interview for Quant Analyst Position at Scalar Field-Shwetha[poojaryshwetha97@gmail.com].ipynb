{
 "cells": [
  {
   "cell_type": "markdown",
   "id": "8f5a56cc",
   "metadata": {},
   "source": [
    "### Import Necessary Libraries"
   ]
  },
  {
   "cell_type": "code",
   "execution_count": 1,
   "id": "b56af54d",
   "metadata": {},
   "outputs": [],
   "source": [
    "import pandas as pd\n",
    "import numpy as np\n",
    "import random\n",
    "from datetime import datetime"
   ]
  },
  {
   "cell_type": "markdown",
   "id": "06fb2ca5",
   "metadata": {},
   "source": [
    "### Define Auxiliary Function"
   ]
  },
  {
   "cell_type": "code",
   "execution_count": 2,
   "id": "5547919d",
   "metadata": {},
   "outputs": [],
   "source": [
    "def getTickerPrice(ticker: str, date: datetime) -> float:\n",
    "    return random.uniform(1, 100)"
   ]
  },
  {
   "cell_type": "markdown",
   "id": "0d7ff725",
   "metadata": {},
   "source": [
    "### Load the Data"
   ]
  },
  {
   "cell_type": "code",
   "execution_count": 52,
   "id": "f0e53546",
   "metadata": {},
   "outputs": [
    {
     "data": {
      "text/html": [
       "<div>\n",
       "<style scoped>\n",
       "    .dataframe tbody tr th:only-of-type {\n",
       "        vertical-align: middle;\n",
       "    }\n",
       "\n",
       "    .dataframe tbody tr th {\n",
       "        vertical-align: top;\n",
       "    }\n",
       "\n",
       "    .dataframe thead th {\n",
       "        text-align: right;\n",
       "    }\n",
       "</style>\n",
       "<table border=\"1\" class=\"dataframe\">\n",
       "  <thead>\n",
       "    <tr style=\"text-align: right;\">\n",
       "      <th></th>\n",
       "      <th>disclosureYear</th>\n",
       "      <th>disclosureDate</th>\n",
       "      <th>transactionDate</th>\n",
       "      <th>owner</th>\n",
       "      <th>ticker</th>\n",
       "      <th>assetDescription</th>\n",
       "      <th>type</th>\n",
       "      <th>amount</th>\n",
       "      <th>representative</th>\n",
       "      <th>district</th>\n",
       "      <th>capitalGainsOver200USD</th>\n",
       "      <th>option_symbol</th>\n",
       "    </tr>\n",
       "  </thead>\n",
       "  <tbody>\n",
       "    <tr>\n",
       "      <th>0</th>\n",
       "      <td>2023</td>\n",
       "      <td>6/15/2023</td>\n",
       "      <td>5/20/2023</td>\n",
       "      <td>Spouse</td>\n",
       "      <td>AAPL</td>\n",
       "      <td>Apple Inc. Stock</td>\n",
       "      <td>Purchase</td>\n",
       "      <td>$100,001 - $250,000</td>\n",
       "      <td>Nancy Pelosi</td>\n",
       "      <td>CA-12</td>\n",
       "      <td>Yes</td>\n",
       "      <td>NaN</td>\n",
       "    </tr>\n",
       "    <tr>\n",
       "      <th>1</th>\n",
       "      <td>2023</td>\n",
       "      <td>5/12/2023</td>\n",
       "      <td>4/10/2023</td>\n",
       "      <td>Self</td>\n",
       "      <td>GOOGL</td>\n",
       "      <td>Alphabet Inc. Stock</td>\n",
       "      <td>Sale (Full)</td>\n",
       "      <td>$50,001 - $100,000</td>\n",
       "      <td>Nancy Pelosi</td>\n",
       "      <td>CA-12</td>\n",
       "      <td>No</td>\n",
       "      <td>NaN</td>\n",
       "    </tr>\n",
       "    <tr>\n",
       "      <th>2</th>\n",
       "      <td>2023</td>\n",
       "      <td>12/29/2023</td>\n",
       "      <td>12/6/2022</td>\n",
       "      <td>Dependent</td>\n",
       "      <td>AMZN</td>\n",
       "      <td>AMZN Stock</td>\n",
       "      <td>Purchase</td>\n",
       "      <td>$100,001 - $250,000</td>\n",
       "      <td>Nancy Pelosi</td>\n",
       "      <td>NY-14</td>\n",
       "      <td>Yes</td>\n",
       "      <td>NaN</td>\n",
       "    </tr>\n",
       "  </tbody>\n",
       "</table>\n",
       "</div>"
      ],
      "text/plain": [
       "   disclosureYear disclosureDate transactionDate      owner ticker  \\\n",
       "0            2023      6/15/2023       5/20/2023     Spouse   AAPL   \n",
       "1            2023      5/12/2023       4/10/2023       Self  GOOGL   \n",
       "2            2023     12/29/2023       12/6/2022  Dependent   AMZN   \n",
       "\n",
       "      assetDescription         type               amount representative  \\\n",
       "0     Apple Inc. Stock     Purchase  $100,001 - $250,000   Nancy Pelosi   \n",
       "1  Alphabet Inc. Stock  Sale (Full)   $50,001 - $100,000   Nancy Pelosi   \n",
       "2           AMZN Stock     Purchase  $100,001 - $250,000   Nancy Pelosi   \n",
       "\n",
       "  district capitalGainsOver200USD option_symbol  \n",
       "0    CA-12                    Yes           NaN  \n",
       "1    CA-12                     No           NaN  \n",
       "2    NY-14                    Yes           NaN  "
      ]
     },
     "execution_count": 52,
     "metadata": {},
     "output_type": "execute_result"
    }
   ],
   "source": [
    "df = pd.read_csv('testData.csv')\n",
    "df.head(3)"
   ]
  },
  {
   "cell_type": "code",
   "execution_count": 74,
   "id": "d9e2592d",
   "metadata": {},
   "outputs": [
    {
     "data": {
      "text/plain": [
       "Index(['disclosureYear', 'disclosureDate', 'Date', 'owner', 'Symbol',\n",
       "       'assetDescription', 'Side', 'Price', 'representative', 'district',\n",
       "       'capitalGainsOver200USD', 'Size'],\n",
       "      dtype='object')"
      ]
     },
     "execution_count": 74,
     "metadata": {},
     "output_type": "execute_result"
    }
   ],
   "source": [
    "df.columns"
   ]
  },
  {
   "cell_type": "code",
   "execution_count": 54,
   "id": "ec51cb05",
   "metadata": {},
   "outputs": [
    {
     "name": "stdout",
     "output_type": "stream",
     "text": [
      "<class 'pandas.core.frame.DataFrame'>\n",
      "RangeIndex: 102 entries, 0 to 101\n",
      "Data columns (total 12 columns):\n",
      " #   Column                  Non-Null Count  Dtype \n",
      "---  ------                  --------------  ----- \n",
      " 0   disclosureYear          102 non-null    int64 \n",
      " 1   disclosureDate          102 non-null    object\n",
      " 2   transactionDate         102 non-null    object\n",
      " 3   owner                   102 non-null    object\n",
      " 4   ticker                  102 non-null    object\n",
      " 5   assetDescription        102 non-null    object\n",
      " 6   type                    102 non-null    object\n",
      " 7   amount                  102 non-null    object\n",
      " 8   representative          102 non-null    object\n",
      " 9   district                102 non-null    object\n",
      " 10  capitalGainsOver200USD  102 non-null    object\n",
      " 11  option_symbol           2 non-null      object\n",
      "dtypes: int64(1), object(11)\n",
      "memory usage: 9.7+ KB\n"
     ]
    }
   ],
   "source": [
    "df.info()"
   ]
  },
  {
   "cell_type": "code",
   "execution_count": 59,
   "id": "a351a611",
   "metadata": {},
   "outputs": [
    {
     "data": {
      "text/plain": [
       "disclosureYear             int64\n",
       "disclosureDate            object\n",
       "transactionDate           object\n",
       "owner                     object\n",
       "ticker                    object\n",
       "assetDescription          object\n",
       "type                      object\n",
       "amount                    object\n",
       "representative            object\n",
       "district                  object\n",
       "capitalGainsOver200USD    object\n",
       "option_symbol             object\n",
       "dtype: object"
      ]
     },
     "execution_count": 59,
     "metadata": {},
     "output_type": "execute_result"
    }
   ],
   "source": [
    "df.dtypes"
   ]
  },
  {
   "cell_type": "code",
   "execution_count": 60,
   "id": "e522f093",
   "metadata": {},
   "outputs": [],
   "source": [
    "df['disclosureDate'] = pd.to_datetime(df['disclosureDate'], errors='coerce')\n",
    "df['transactionDate'] = pd.to_datetime(df['transactionDate'], errors='coerce')"
   ]
  },
  {
   "cell_type": "code",
   "execution_count": 62,
   "id": "57bdac6c",
   "metadata": {},
   "outputs": [
    {
     "data": {
      "text/plain": [
       "disclosureYear              0\n",
       "disclosureDate              0\n",
       "transactionDate             0\n",
       "owner                       0\n",
       "ticker                      0\n",
       "assetDescription            0\n",
       "type                        0\n",
       "amount                      0\n",
       "representative              0\n",
       "district                    0\n",
       "capitalGainsOver200USD      0\n",
       "option_symbol             100\n",
       "dtype: int64"
      ]
     },
     "execution_count": 62,
     "metadata": {},
     "output_type": "execute_result"
    }
   ],
   "source": [
    "df.isnull().sum()"
   ]
  },
  {
   "cell_type": "code",
   "execution_count": 63,
   "id": "1e8d0ee7",
   "metadata": {},
   "outputs": [
    {
     "data": {
      "text/plain": [
       "array(['Purchase', 'Sale (Full)', 'Sale (Partial)'], dtype=object)"
      ]
     },
     "execution_count": 63,
     "metadata": {},
     "output_type": "execute_result"
    }
   ],
   "source": [
    "df['type'].unique()"
   ]
  },
  {
   "cell_type": "code",
   "execution_count": 64,
   "id": "132990ea",
   "metadata": {},
   "outputs": [
    {
     "data": {
      "text/plain": [
       "array(['AAPL', 'GOOGL', 'AMZN', 'MSFT', 'TSLA'], dtype=object)"
      ]
     },
     "execution_count": 64,
     "metadata": {},
     "output_type": "execute_result"
    }
   ],
   "source": [
    "df['ticker'].unique()"
   ]
  },
  {
   "cell_type": "markdown",
   "id": "2efb7e00",
   "metadata": {},
   "source": [
    "### Preprocess the Data"
   ]
  },
  {
   "cell_type": "code",
   "execution_count": 65,
   "id": "663cd5a0",
   "metadata": {},
   "outputs": [],
   "source": [
    "# Drop the 'option_symbol' column\n",
    "df = df.drop(columns=['option_symbol'])"
   ]
  },
  {
   "cell_type": "code",
   "execution_count": 66,
   "id": "72eae8ed",
   "metadata": {},
   "outputs": [],
   "source": [
    "# Ensure DataFrame matches required format\n",
    "df.rename(columns={'transactionDate': 'Date', 'ticker': 'Symbol', 'type': 'Side', 'amount': 'Price'}, inplace=True)"
   ]
  },
  {
   "cell_type": "code",
   "execution_count": 68,
   "id": "728e2511",
   "metadata": {},
   "outputs": [],
   "source": [
    "# Convert 'Side' to 'buy' or 'sell'\n",
    "df['Side'] = df['Side'].apply(lambda x: 'buy' if 'Purchase' in x else 'sell')"
   ]
  },
  {
   "cell_type": "code",
   "execution_count": 69,
   "id": "5b4f6f28",
   "metadata": {},
   "outputs": [],
   "source": [
    "# Convert 'Price' to a float value (taking the lower bound of the range)\n",
    "df['Price'] = df['Price'].apply(lambda x: float(x.strip('$').replace(',', '').split(' - ')[0]))"
   ]
  },
  {
   "cell_type": "code",
   "execution_count": 70,
   "id": "8e15f280",
   "metadata": {},
   "outputs": [],
   "source": [
    "# Ensure 'Size' column exists and defaults to 1 if not provided\n",
    "if 'Size' not in df.columns:\n",
    "    df['Size'] = 1.0\n",
    "else:\n",
    "    df['Size'] = df['Size'].fillna(1)"
   ]
  },
  {
   "cell_type": "code",
   "execution_count": 80,
   "id": "d680d958",
   "metadata": {},
   "outputs": [
    {
     "data": {
      "text/html": [
       "<div>\n",
       "<style scoped>\n",
       "    .dataframe tbody tr th:only-of-type {\n",
       "        vertical-align: middle;\n",
       "    }\n",
       "\n",
       "    .dataframe tbody tr th {\n",
       "        vertical-align: top;\n",
       "    }\n",
       "\n",
       "    .dataframe thead th {\n",
       "        text-align: right;\n",
       "    }\n",
       "</style>\n",
       "<table border=\"1\" class=\"dataframe\">\n",
       "  <thead>\n",
       "    <tr style=\"text-align: right;\">\n",
       "      <th></th>\n",
       "      <th>disclosureYear</th>\n",
       "      <th>disclosureDate</th>\n",
       "      <th>Date</th>\n",
       "      <th>owner</th>\n",
       "      <th>Symbol</th>\n",
       "      <th>assetDescription</th>\n",
       "      <th>Side</th>\n",
       "      <th>Price</th>\n",
       "      <th>representative</th>\n",
       "      <th>district</th>\n",
       "      <th>capitalGainsOver200USD</th>\n",
       "      <th>Size</th>\n",
       "    </tr>\n",
       "  </thead>\n",
       "  <tbody>\n",
       "    <tr>\n",
       "      <th>0</th>\n",
       "      <td>2023</td>\n",
       "      <td>2023-06-15</td>\n",
       "      <td>2023-05-20</td>\n",
       "      <td>Spouse</td>\n",
       "      <td>AAPL</td>\n",
       "      <td>Apple Inc. Stock</td>\n",
       "      <td>buy</td>\n",
       "      <td>100001.0</td>\n",
       "      <td>Nancy Pelosi</td>\n",
       "      <td>CA-12</td>\n",
       "      <td>Yes</td>\n",
       "      <td>1.0</td>\n",
       "    </tr>\n",
       "    <tr>\n",
       "      <th>1</th>\n",
       "      <td>2023</td>\n",
       "      <td>2023-05-12</td>\n",
       "      <td>2023-04-10</td>\n",
       "      <td>Self</td>\n",
       "      <td>GOOGL</td>\n",
       "      <td>Alphabet Inc. Stock</td>\n",
       "      <td>sell</td>\n",
       "      <td>50001.0</td>\n",
       "      <td>Nancy Pelosi</td>\n",
       "      <td>CA-12</td>\n",
       "      <td>No</td>\n",
       "      <td>1.0</td>\n",
       "    </tr>\n",
       "    <tr>\n",
       "      <th>2</th>\n",
       "      <td>2023</td>\n",
       "      <td>2023-12-29</td>\n",
       "      <td>2022-12-06</td>\n",
       "      <td>Dependent</td>\n",
       "      <td>AMZN</td>\n",
       "      <td>AMZN Stock</td>\n",
       "      <td>buy</td>\n",
       "      <td>100001.0</td>\n",
       "      <td>Nancy Pelosi</td>\n",
       "      <td>NY-14</td>\n",
       "      <td>Yes</td>\n",
       "      <td>1.0</td>\n",
       "    </tr>\n",
       "    <tr>\n",
       "      <th>3</th>\n",
       "      <td>2023</td>\n",
       "      <td>2022-02-13</td>\n",
       "      <td>2022-04-14</td>\n",
       "      <td>Self</td>\n",
       "      <td>AMZN</td>\n",
       "      <td>AMZN Stock</td>\n",
       "      <td>buy</td>\n",
       "      <td>100001.0</td>\n",
       "      <td>Nancy Pelosi</td>\n",
       "      <td>FL-9</td>\n",
       "      <td>No</td>\n",
       "      <td>1.0</td>\n",
       "    </tr>\n",
       "    <tr>\n",
       "      <th>4</th>\n",
       "      <td>2023</td>\n",
       "      <td>2023-06-23</td>\n",
       "      <td>2022-03-11</td>\n",
       "      <td>Joint</td>\n",
       "      <td>MSFT</td>\n",
       "      <td>MSFT Stock</td>\n",
       "      <td>buy</td>\n",
       "      <td>1001.0</td>\n",
       "      <td>Nancy Pelosi</td>\n",
       "      <td>CA-12</td>\n",
       "      <td>Yes</td>\n",
       "      <td>1.0</td>\n",
       "    </tr>\n",
       "  </tbody>\n",
       "</table>\n",
       "</div>"
      ],
      "text/plain": [
       "   disclosureYear disclosureDate       Date      owner Symbol  \\\n",
       "0            2023     2023-06-15 2023-05-20     Spouse   AAPL   \n",
       "1            2023     2023-05-12 2023-04-10       Self  GOOGL   \n",
       "2            2023     2023-12-29 2022-12-06  Dependent   AMZN   \n",
       "3            2023     2022-02-13 2022-04-14       Self   AMZN   \n",
       "4            2023     2023-06-23 2022-03-11      Joint   MSFT   \n",
       "\n",
       "      assetDescription  Side     Price representative district  \\\n",
       "0     Apple Inc. Stock   buy  100001.0   Nancy Pelosi    CA-12   \n",
       "1  Alphabet Inc. Stock  sell   50001.0   Nancy Pelosi    CA-12   \n",
       "2           AMZN Stock   buy  100001.0   Nancy Pelosi    NY-14   \n",
       "3           AMZN Stock   buy  100001.0   Nancy Pelosi     FL-9   \n",
       "4           MSFT Stock   buy    1001.0   Nancy Pelosi    CA-12   \n",
       "\n",
       "  capitalGainsOver200USD  Size  \n",
       "0                    Yes   1.0  \n",
       "1                     No   1.0  \n",
       "2                    Yes   1.0  \n",
       "3                     No   1.0  \n",
       "4                    Yes   1.0  "
      ]
     },
     "execution_count": 80,
     "metadata": {},
     "output_type": "execute_result"
    }
   ],
   "source": [
    "df.head()"
   ]
  },
  {
   "cell_type": "markdown",
   "id": "6b6dbba4",
   "metadata": {},
   "source": [
    "### Define Trade Performance Function"
   ]
  },
  {
   "cell_type": "code",
   "execution_count": 78,
   "id": "cd2486e9",
   "metadata": {},
   "outputs": [],
   "source": [
    "def calculate_trade_performance(df: pd.DataFrame) -> pd.Series:\n",
    "    if df.empty:\n",
    "        return pd.Series(dtype=float)\n",
    "\n",
    "    # Calculate value of each trade\n",
    "    df['Trade Value'] = df['Size'] * df['Price']\n",
    "\n",
    "    # Calculate market price for each trade\n",
    "    df['Market Price'] = df.apply(lambda row: getTickerPrice(row['Symbol'], row['Date']), axis=1)\n",
    "\n",
    "    # Calculate unrealized P&L\n",
    "    df['Unrealized P&L'] = df.apply(\n",
    "        lambda row: (row['Market Price'] - row['Price']) * row['Size'] if row['Side'] == 'buy' else (row['Price'] - row['Market Price']) * row['Size'], axis=1)\n",
    "\n",
    "    # Metrics calculation\n",
    "    metrics = {}\n",
    "    metrics['Total Trades'] = len(df)\n",
    "    metrics['Total Buy Trades'] = len(df[df['Side'] == 'buy'])\n",
    "    metrics['Total Sell Trades'] = len(df[df['Side'] == 'sell'])\n",
    "    metrics['Total Volume'] = df['Size'].sum()\n",
    "    metrics['Total Buy Volume'] = df[df['Side'] == 'buy']['Size'].sum()\n",
    "    metrics['Total Sell Volume'] = df[df['Side'] == 'sell']['Size'].sum()\n",
    "    metrics['Average Trade Value'] = df['Trade Value'].mean()\n",
    "    metrics['Average Buy Trade Value'] = df[df['Side'] == 'buy']['Trade Value'].mean()\n",
    "    metrics['Average Sell Trade Value'] = df[df['Side'] == 'sell']['Trade Value'].mean()\n",
    "    metrics['Total Unrealized P&L'] = df['Unrealized P&L'].sum()\n",
    "\n",
    "    return pd.Series(metrics)\n"
   ]
  },
  {
   "cell_type": "markdown",
   "id": "20ffa3ea",
   "metadata": {},
   "source": [
    "### Apply the Trade Performance Calculation Function"
   ]
  },
  {
   "cell_type": "code",
   "execution_count": 81,
   "id": "6c605f29",
   "metadata": {},
   "outputs": [
    {
     "name": "stdout",
     "output_type": "stream",
     "text": [
      "Total Trades                1.020000e+02\n",
      "Total Buy Trades            4.000000e+01\n",
      "Total Sell Trades           6.200000e+01\n",
      "Total Volume                1.020000e+02\n",
      "Total Buy Volume            4.000000e+01\n",
      "Total Sell Volume           6.200000e+01\n",
      "Average Trade Value         8.036375e+04\n",
      "Average Buy Trade Value     6.792600e+04\n",
      "Average Sell Trade Value    8.838810e+04\n",
      "Total Unrealized P&L        2.762547e+06\n",
      "dtype: float64\n"
     ]
    }
   ],
   "source": [
    "metrics = calculate_trade_performance(df)\n",
    "print(metrics)"
   ]
  },
  {
   "cell_type": "code",
   "execution_count": 82,
   "id": "820588f9",
   "metadata": {},
   "outputs": [
    {
     "data": {
      "text/html": [
       "<div>\n",
       "<style scoped>\n",
       "    .dataframe tbody tr th:only-of-type {\n",
       "        vertical-align: middle;\n",
       "    }\n",
       "\n",
       "    .dataframe tbody tr th {\n",
       "        vertical-align: top;\n",
       "    }\n",
       "\n",
       "    .dataframe thead th {\n",
       "        text-align: right;\n",
       "    }\n",
       "</style>\n",
       "<table border=\"1\" class=\"dataframe\">\n",
       "  <thead>\n",
       "    <tr style=\"text-align: right;\">\n",
       "      <th></th>\n",
       "      <th>disclosureYear</th>\n",
       "      <th>disclosureDate</th>\n",
       "      <th>Date</th>\n",
       "      <th>owner</th>\n",
       "      <th>Symbol</th>\n",
       "      <th>assetDescription</th>\n",
       "      <th>Side</th>\n",
       "      <th>Price</th>\n",
       "      <th>representative</th>\n",
       "      <th>district</th>\n",
       "      <th>capitalGainsOver200USD</th>\n",
       "      <th>Size</th>\n",
       "      <th>Trade Value</th>\n",
       "      <th>Market Price</th>\n",
       "      <th>Unrealized P&amp;L</th>\n",
       "    </tr>\n",
       "  </thead>\n",
       "  <tbody>\n",
       "    <tr>\n",
       "      <th>0</th>\n",
       "      <td>2023</td>\n",
       "      <td>2023-06-15</td>\n",
       "      <td>2023-05-20</td>\n",
       "      <td>Spouse</td>\n",
       "      <td>AAPL</td>\n",
       "      <td>Apple Inc. Stock</td>\n",
       "      <td>buy</td>\n",
       "      <td>100001.0</td>\n",
       "      <td>Nancy Pelosi</td>\n",
       "      <td>CA-12</td>\n",
       "      <td>Yes</td>\n",
       "      <td>1.0</td>\n",
       "      <td>100001.0</td>\n",
       "      <td>87.290559</td>\n",
       "      <td>-99913.709441</td>\n",
       "    </tr>\n",
       "    <tr>\n",
       "      <th>1</th>\n",
       "      <td>2023</td>\n",
       "      <td>2023-05-12</td>\n",
       "      <td>2023-04-10</td>\n",
       "      <td>Self</td>\n",
       "      <td>GOOGL</td>\n",
       "      <td>Alphabet Inc. Stock</td>\n",
       "      <td>sell</td>\n",
       "      <td>50001.0</td>\n",
       "      <td>Nancy Pelosi</td>\n",
       "      <td>CA-12</td>\n",
       "      <td>No</td>\n",
       "      <td>1.0</td>\n",
       "      <td>50001.0</td>\n",
       "      <td>32.841841</td>\n",
       "      <td>49968.158159</td>\n",
       "    </tr>\n",
       "    <tr>\n",
       "      <th>2</th>\n",
       "      <td>2023</td>\n",
       "      <td>2023-12-29</td>\n",
       "      <td>2022-12-06</td>\n",
       "      <td>Dependent</td>\n",
       "      <td>AMZN</td>\n",
       "      <td>AMZN Stock</td>\n",
       "      <td>buy</td>\n",
       "      <td>100001.0</td>\n",
       "      <td>Nancy Pelosi</td>\n",
       "      <td>NY-14</td>\n",
       "      <td>Yes</td>\n",
       "      <td>1.0</td>\n",
       "      <td>100001.0</td>\n",
       "      <td>1.930235</td>\n",
       "      <td>-99999.069765</td>\n",
       "    </tr>\n",
       "    <tr>\n",
       "      <th>3</th>\n",
       "      <td>2023</td>\n",
       "      <td>2022-02-13</td>\n",
       "      <td>2022-04-14</td>\n",
       "      <td>Self</td>\n",
       "      <td>AMZN</td>\n",
       "      <td>AMZN Stock</td>\n",
       "      <td>buy</td>\n",
       "      <td>100001.0</td>\n",
       "      <td>Nancy Pelosi</td>\n",
       "      <td>FL-9</td>\n",
       "      <td>No</td>\n",
       "      <td>1.0</td>\n",
       "      <td>100001.0</td>\n",
       "      <td>45.168175</td>\n",
       "      <td>-99955.831825</td>\n",
       "    </tr>\n",
       "    <tr>\n",
       "      <th>4</th>\n",
       "      <td>2023</td>\n",
       "      <td>2023-06-23</td>\n",
       "      <td>2022-03-11</td>\n",
       "      <td>Joint</td>\n",
       "      <td>MSFT</td>\n",
       "      <td>MSFT Stock</td>\n",
       "      <td>buy</td>\n",
       "      <td>1001.0</td>\n",
       "      <td>Nancy Pelosi</td>\n",
       "      <td>CA-12</td>\n",
       "      <td>Yes</td>\n",
       "      <td>1.0</td>\n",
       "      <td>1001.0</td>\n",
       "      <td>68.642837</td>\n",
       "      <td>-932.357163</td>\n",
       "    </tr>\n",
       "  </tbody>\n",
       "</table>\n",
       "</div>"
      ],
      "text/plain": [
       "   disclosureYear disclosureDate       Date      owner Symbol  \\\n",
       "0            2023     2023-06-15 2023-05-20     Spouse   AAPL   \n",
       "1            2023     2023-05-12 2023-04-10       Self  GOOGL   \n",
       "2            2023     2023-12-29 2022-12-06  Dependent   AMZN   \n",
       "3            2023     2022-02-13 2022-04-14       Self   AMZN   \n",
       "4            2023     2023-06-23 2022-03-11      Joint   MSFT   \n",
       "\n",
       "      assetDescription  Side     Price representative district  \\\n",
       "0     Apple Inc. Stock   buy  100001.0   Nancy Pelosi    CA-12   \n",
       "1  Alphabet Inc. Stock  sell   50001.0   Nancy Pelosi    CA-12   \n",
       "2           AMZN Stock   buy  100001.0   Nancy Pelosi    NY-14   \n",
       "3           AMZN Stock   buy  100001.0   Nancy Pelosi     FL-9   \n",
       "4           MSFT Stock   buy    1001.0   Nancy Pelosi    CA-12   \n",
       "\n",
       "  capitalGainsOver200USD  Size  Trade Value  Market Price  Unrealized P&L  \n",
       "0                    Yes   1.0     100001.0     87.290559   -99913.709441  \n",
       "1                     No   1.0      50001.0     32.841841    49968.158159  \n",
       "2                    Yes   1.0     100001.0      1.930235   -99999.069765  \n",
       "3                     No   1.0     100001.0     45.168175   -99955.831825  \n",
       "4                    Yes   1.0       1001.0     68.642837     -932.357163  "
      ]
     },
     "execution_count": 82,
     "metadata": {},
     "output_type": "execute_result"
    }
   ],
   "source": [
    "df.head()"
   ]
  },
  {
   "cell_type": "markdown",
   "id": "689cc54d",
   "metadata": {},
   "source": [
    "### Interpretation of Results"
   ]
  },
  {
   "cell_type": "code",
   "execution_count": 83,
   "id": "2e2c0f88",
   "metadata": {},
   "outputs": [
    {
     "name": "stdout",
     "output_type": "stream",
     "text": [
      "Total Trades: 102.00\n",
      "Total Buy Trades: 40.00\n",
      "Total Sell Trades: 62.00\n",
      "Total Volume: 102.00\n",
      "Total Buy Volume: 40.00\n",
      "Total Sell Volume: 62.00\n",
      "Average Trade Value: 80363.75\n",
      "Average Buy Trade Value: 67926.00\n",
      "Average Sell Trade Value: 88388.10\n",
      "Total Unrealized P&L: 2762546.79\n"
     ]
    }
   ],
   "source": [
    "for metric, value in metrics.items():\n",
    "    print(f\"{metric}: {value:.2f}\")"
   ]
  }
 ],
 "metadata": {
  "kernelspec": {
   "display_name": "Python 3 (ipykernel)",
   "language": "python",
   "name": "python3"
  },
  "language_info": {
   "codemirror_mode": {
    "name": "ipython",
    "version": 3
   },
   "file_extension": ".py",
   "mimetype": "text/x-python",
   "name": "python",
   "nbconvert_exporter": "python",
   "pygments_lexer": "ipython3",
   "version": "3.11.5"
  }
 },
 "nbformat": 4,
 "nbformat_minor": 5
}
